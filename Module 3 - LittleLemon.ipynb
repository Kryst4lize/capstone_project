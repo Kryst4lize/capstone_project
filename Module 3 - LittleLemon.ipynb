{
 "cells": [
  {
   "cell_type": "code",
   "execution_count": 35,
   "metadata": {},
   "outputs": [],
   "source": [
    "import mysql.connector as connector\n",
    "\n",
    "connection = connector.connect(user = \"coursera\", password = \"coursera\", auth_plugin='mysql_native_password')\n"
   ]
  },
  {
   "cell_type": "code",
   "execution_count": 26,
   "metadata": {},
   "outputs": [],
   "source": [
    "# Task One\n",
    "cursor = connection.cursor() \n",
    "cursor.execute(\"SHOW DATABASES\")\n"
   ]
  },
  {
   "cell_type": "code",
   "execution_count": 49,
   "metadata": {},
   "outputs": [],
   "source": [
    "def query_function(query):\n",
    "    connection = connector.connect(user = \"coursera\", password = \"coursera\", auth_plugin='mysql_native_password')\n",
    "    cursor = connection.cursor()\n",
    "    cursor.execute(\"USE mydb;\")\n",
    "    cursor.execute(query)\n",
    "    res = cursor.fetchall()\n",
    "    return res\n",
    "\n",
    "def writing_function(query):\n",
    "    connection = connector.connect(user = \"coursera\", password = \"coursera\", auth_plugin='mysql_native_password')\n",
    "    cursor = connection.cursor()\n",
    "    cursor.execute(\"USE mydb;\")\n",
    "    cursor.execute(query)\n",
    "    connection.commit()\n",
    "    # print top 10 rows of the table\n",
    "    res = cursor.fetchall()\n",
    "    for i in res:\n",
    "        print(i)\n",
    "    return res\n"
   ]
  },
  {
   "cell_type": "code",
   "execution_count": 50,
   "metadata": {},
   "outputs": [
    {
     "data": {
      "text/plain": [
       "[('address',),\n",
       " ('bookings',),\n",
       " ('category',),\n",
       " ('customer',),\n",
       " ('delivery',),\n",
       " ('location',),\n",
       " ('menus',),\n",
       " ('orders',),\n",
       " ('products',),\n",
       " ('shipping',),\n",
       " ('staff',),\n",
       " ('sub-category',),\n",
       " ('types',)]"
      ]
     },
     "execution_count": 50,
     "metadata": {},
     "output_type": "execute_result"
    }
   ],
   "source": [
    "# Task two\n",
    "task_two = \"\"\"\n",
    "SHOW TABLES\n",
    "\"\"\"\n",
    "query_function(task_two)"
   ]
  },
  {
   "cell_type": "code",
   "execution_count": null,
   "metadata": {},
   "outputs": [],
   "source": [
    "# Task three\n"
   ]
  }
 ],
 "metadata": {
  "kernelspec": {
   "display_name": "coursera",
   "language": "python",
   "name": "python3"
  },
  "language_info": {
   "codemirror_mode": {
    "name": "ipython",
    "version": 3
   },
   "file_extension": ".py",
   "mimetype": "text/x-python",
   "name": "python",
   "nbconvert_exporter": "python",
   "pygments_lexer": "ipython3",
   "version": "3.12.6"
  }
 },
 "nbformat": 4,
 "nbformat_minor": 2
}
